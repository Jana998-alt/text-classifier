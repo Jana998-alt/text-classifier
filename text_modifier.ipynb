{
 "cells": [
  {
   "cell_type": "code",
   "execution_count": 2,
   "id": "68fade24-5ee8-4850-9145-00c468793cc1",
   "metadata": {},
   "outputs": [],
   "source": [
    "import pandas as pd"
   ]
  },
  {
   "cell_type": "code",
   "execution_count": 52,
   "id": "c1bf90c8-ffb7-4dcc-acc4-85d9f2442b7c",
   "metadata": {},
   "outputs": [
    {
     "name": "stdout",
     "output_type": "stream",
     "text": [
      "                                            sentence  label source\n",
      "0                           Wow... Loved this place.      1   yelp\n",
      "1                                 Crust is not good.      0   yelp\n",
      "2          Not tasty and the texture was just nasty.      0   yelp\n",
      "3  Stopped by during the late May bank holiday of...      1   yelp\n",
      "4  The selection on the menu was great and so wer...      1   yelp\n"
     ]
    }
   ],
   "source": [
    "filepath_dict = {'yelp':   'data/yelp_labelled.txt',\n",
    "                 'amazon': 'data/amazon_cells_labelled.txt',\n",
    "                 'imdb':   'data/imdb_labelled.txt'}\n",
    "\n",
    "df_list = []\n",
    "for source, filepath in filepath_dict.items():\n",
    "    df = pd.read_csv(filepath, names=['sentence', 'label'], sep='\\t')\n",
    "    df['source'] = source  # Add another column filled with the source name\n",
    "    df_list.append(df)\n",
    "\n",
    "df = pd.concat(df_list)\n",
    "print(df.iloc[0:5])"
   ]
  },
  {
   "cell_type": "code",
   "execution_count": 54,
   "id": "081b7bce-eac3-4ec5-a34a-35b3311647ff",
   "metadata": {},
   "outputs": [],
   "source": [
    "from sklearn.feature_extraction.text import CountVectorizer"
   ]
  },
  {
   "cell_type": "code",
   "execution_count": 55,
   "id": "a1f62e56-7730-43f7-a1c0-4d8e1901976d",
   "metadata": {},
   "outputs": [],
   "source": [
    "vectorizer = CountVectorizer(min_df=0 , lowercase=False)"
   ]
  },
  {
   "cell_type": "code",
   "execution_count": 56,
   "id": "d09befa3-1040-492a-a19d-958216a04246",
   "metadata": {},
   "outputs": [],
   "source": [
    "from sklearn.model_selection import train_test_split"
   ]
  },
  {
   "cell_type": "code",
   "execution_count": 57,
   "id": "3bf02169-76e4-4379-9dfd-bfec8f4d292a",
   "metadata": {},
   "outputs": [],
   "source": [
    "from sklearn.linear_model import LogisticRegression"
   ]
  },
  {
   "cell_type": "code",
   "execution_count": 64,
   "id": "659e2b21-7008-4b98-b885-493185b624af",
   "metadata": {},
   "outputs": [
    {
     "name": "stdout",
     "output_type": "stream",
     "text": [
      "0.8\n",
      "0.81\n",
      "0.7666666666666667\n"
     ]
    }
   ],
   "source": [
    "for source in df[\"source\"].unique():\n",
    "    df_model= df[df['source']==source]\n",
    "\n",
    "    sentences = df_model['sentence'].values\n",
    "    y = df_model['label'].values\n",
    "    \n",
    "    sen_train, sen_test, y_train, y_test = train_test_split(sentences, y, train_size = 0.8, test_size = 0.2, random_state = 500)\n",
    "    \n",
    "    vectorizer = CountVectorizer()\n",
    "    vectorizer.fit(sen_train)\n",
    "    X_train = vectorizer.transform(sen_train)\n",
    "    X_test = vectorizer.transform(sen_test)\n",
    "    \n",
    "    classify = LogisticRegression()\n",
    "    classify.fit(X_train, y_train)\n",
    "    score = classify.score(X_test, y_test)\n",
    "    print (score)\n",
    "    "
   ]
  },
  {
   "cell_type": "code",
   "execution_count": 71,
   "id": "ef642c22-0ab2-47b2-ba9a-17bb6b5f84f0",
   "metadata": {},
   "outputs": [],
   "source": [
    "from keras.models import Sequential\n",
    "from keras import layers"
   ]
  },
  {
   "cell_type": "code",
   "execution_count": null,
   "id": "dc8ea21a-69fd-46a9-83ae-6f68b2e5088e",
   "metadata": {},
   "outputs": [],
   "source": [
    "from keras.backend import clear_session\n",
    "clear_session()"
   ]
  },
  {
   "cell_type": "code",
   "execution_count": 77,
   "id": "7883e1ee-3977-47cf-b1cc-43734bb17a71",
   "metadata": {},
   "outputs": [],
   "source": [
    "input_dim = X_train.shape[1]\n",
    "\n",
    "model = Sequential()\n",
    "\n",
    "model.add(layers.Dense(10, input_dim = input_dim, activation = 'relu' ))\n",
    "model.add(layers.Dense(1, activation='sigmoid'))"
   ]
  },
  {
   "cell_type": "code",
   "execution_count": null,
   "id": "ce9c228c-a128-4fd7-ab9f-bbfa6dbcfaef",
   "metadata": {},
   "outputs": [],
   "source": []
  }
 ],
 "metadata": {
  "kernelspec": {
   "display_name": "Python 3 (ipykernel)",
   "language": "python",
   "name": "python3"
  },
  "language_info": {
   "codemirror_mode": {
    "name": "ipython",
    "version": 3
   },
   "file_extension": ".py",
   "mimetype": "text/x-python",
   "name": "python",
   "nbconvert_exporter": "python",
   "pygments_lexer": "ipython3",
   "version": "3.9.5"
  }
 },
 "nbformat": 4,
 "nbformat_minor": 5
}
